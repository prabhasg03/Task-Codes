{
 "cells": [
  {
   "cell_type": "code",
   "execution_count": 1,
   "id": "2d022e3a",
   "metadata": {},
   "outputs": [
    {
     "name": "stdout",
     "output_type": "stream",
     "text": [
      "Name: Prabhas \n",
      "Age: 25\n"
     ]
    }
   ],
   "source": [
    "class Person:\n",
    "    def __init__(self,n,a):\n",
    "        self.n=n\n",
    "        self.a=a\n",
    "p1=Person(\"Prabhas\",25)\n",
    "print(\"Name:\",p1.n,\"\\nAge:\",p1.a)"
   ]
  },
  {
   "cell_type": "code",
   "execution_count": null,
   "id": "00df3e5e",
   "metadata": {},
   "outputs": [],
   "source": [
    "class Person:\n",
    "    def __init__(self,n,a):\n",
    "        self.n=n\n",
    "        self.a=a\n",
    "    def myfunc(self):\n",
    "        print(\"Name:\",p1.n,\"\\nAge:\",p1.a)\n",
    "p1=Person(\"Prabhas\",25)\n",
    "p1.myfunc()"
   ]
  },
  {
   "cell_type": "code",
   "execution_count": 4,
   "id": "915dcb4f",
   "metadata": {},
   "outputs": [
    {
     "name": "stdout",
     "output_type": "stream",
     "text": [
      "Name: Prabhas \n",
      "Age: 25\n",
      "Name: Prabhas \n",
      "Age: 19\n"
     ]
    }
   ],
   "source": [
    "class Person:\n",
    "    def __init__(self,n,a):\n",
    "        self.n=n\n",
    "        self.a=a\n",
    "    def myfunc(self):\n",
    "        print(\"Name:\",p1.n,\"\\nAge:\",p1.a)\n",
    "p1=Person(\"Prabhas\",25)\n",
    "p1.myfunc()\n",
    "p1.a=19\n",
    "p1.myfunc()"
   ]
  },
  {
   "cell_type": "code",
   "execution_count": 5,
   "id": "96f372eb",
   "metadata": {},
   "outputs": [
    {
     "ename": "AttributeError",
     "evalue": "'Person' object has no attribute 'a'",
     "output_type": "error",
     "traceback": [
      "\u001b[1;31m---------------------------------------------------------------------------\u001b[0m",
      "\u001b[1;31mAttributeError\u001b[0m                            Traceback (most recent call last)",
      "Cell \u001b[1;32mIn[5], line 9\u001b[0m\n\u001b[0;32m      7\u001b[0m p1\u001b[38;5;241m=\u001b[39mPerson(\u001b[38;5;124m\"\u001b[39m\u001b[38;5;124mPrabhas\u001b[39m\u001b[38;5;124m\"\u001b[39m,\u001b[38;5;241m25\u001b[39m)\n\u001b[0;32m      8\u001b[0m \u001b[38;5;28;01mdel\u001b[39;00m p1\u001b[38;5;241m.\u001b[39ma\n\u001b[1;32m----> 9\u001b[0m \u001b[38;5;28mprint\u001b[39m(\u001b[43mp1\u001b[49m\u001b[38;5;241;43m.\u001b[39;49m\u001b[43ma\u001b[49m)\n",
      "\u001b[1;31mAttributeError\u001b[0m: 'Person' object has no attribute 'a'"
     ]
    }
   ],
   "source": [
    "class Person:\n",
    "    def __init__(self,n,a):\n",
    "        self.n=n\n",
    "        self.a=a\n",
    "    def myfunc(self):\n",
    "        print(\"Name:\",p1.n,\"\\nAge:\",p1.a)\n",
    "p1=Person(\"Prabhas\",25)\n",
    "del p1.a\n",
    "print(p1.a)"
   ]
  },
  {
   "cell_type": "code",
   "execution_count": 6,
   "id": "ab6b0fd9",
   "metadata": {},
   "outputs": [
    {
     "ename": "NameError",
     "evalue": "name 'p1' is not defined",
     "output_type": "error",
     "traceback": [
      "\u001b[1;31m---------------------------------------------------------------------------\u001b[0m",
      "\u001b[1;31mNameError\u001b[0m                                 Traceback (most recent call last)",
      "Cell \u001b[1;32mIn[6], line 9\u001b[0m\n\u001b[0;32m      7\u001b[0m p1\u001b[38;5;241m=\u001b[39mPerson(\u001b[38;5;124m\"\u001b[39m\u001b[38;5;124mPrabhas\u001b[39m\u001b[38;5;124m\"\u001b[39m,\u001b[38;5;241m25\u001b[39m)\n\u001b[0;32m      8\u001b[0m \u001b[38;5;28;01mdel\u001b[39;00m p1\n\u001b[1;32m----> 9\u001b[0m \u001b[38;5;28mprint\u001b[39m(\u001b[43mp1\u001b[49m)\n",
      "\u001b[1;31mNameError\u001b[0m: name 'p1' is not defined"
     ]
    }
   ],
   "source": [
    "class Person:\n",
    "    def __init__(self,n,a):\n",
    "        self.n=n\n",
    "        self.a=a\n",
    "    def myfunc(self):\n",
    "        print(\"Name:\",p1.n,\"\\nAge:\",p1.a)\n",
    "p1=Person(\"Prabhas\",25)\n",
    "del p1\n",
    "print(p1)"
   ]
  },
  {
   "cell_type": "code",
   "execution_count": 11,
   "id": "0987f44c",
   "metadata": {},
   "outputs": [
    {
     "name": "stdout",
     "output_type": "stream",
     "text": [
      "125\n",
      "75\n"
     ]
    }
   ],
   "source": [
    "class BankAccount(object):\n",
    "# define a class to simulate a bank account\n",
    "    def __init__(self): #initialize the bank account with zero balance\n",
    "        self.balance=0\n",
    "    def deposit(self, amount):\n",
    "        #deposit the given amount into the account\n",
    "        self.balance=self.balance+amount\n",
    "    def withdraw (self, amount):\n",
    "    #withdraw the given amount from the account\n",
    "        self.balance=self.balance-amount\n",
    "    def getBalance (self):\n",
    "    # return the balance in the account\n",
    "        return self.balance\n",
    "myAccount=BankAccount() # create an instance of BankAccount \n",
    "secondAccount=BankAccount() # create another\n",
    "myAccount.deposit(200)\n",
    "secondAccount.deposit (125)\n",
    "myAccount.withdraw(75) \n",
    "secondAccount.withdraw(50)\n",
    "print(myAccount.getBalance()) \n",
    "print(secondAccount.getBalance())"
   ]
  },
  {
   "cell_type": "code",
   "execution_count": 12,
   "id": "32c05de3",
   "metadata": {},
   "outputs": [],
   "source": [
    "class BankAccount (object): # create a class to simulate a bank account\n",
    "    def __init__(self, initBalance): # create new account with given initial balance\n",
    "        self.balance=initBalance\n",
    "    #The values for these additional arguments would be provided as part of the expression \n",
    "    #that created the new value:\n",
    "newAccount=BankAccount(500) # create bank account with $500\n",
    "print(newAccount.balance)"
   ]
  },
  {
   "cell_type": "code",
   "execution_count": null,
   "id": "7b1ab411",
   "metadata": {},
   "outputs": [],
   "source": []
  }
 ],
 "metadata": {
  "kernelspec": {
   "display_name": "Python 3 (ipykernel)",
   "language": "python",
   "name": "python3"
  },
  "language_info": {
   "codemirror_mode": {
    "name": "ipython",
    "version": 3
   },
   "file_extension": ".py",
   "mimetype": "text/x-python",
   "name": "python",
   "nbconvert_exporter": "python",
   "pygments_lexer": "ipython3",
   "version": "3.11.1"
  }
 },
 "nbformat": 4,
 "nbformat_minor": 5
}
