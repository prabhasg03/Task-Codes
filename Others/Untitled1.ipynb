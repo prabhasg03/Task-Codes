{
 "cells": [
  {
   "cell_type": "code",
   "execution_count": 1,
   "id": "4ff12c38",
   "metadata": {},
   "outputs": [
    {
     "name": "stdout",
     "output_type": "stream",
     "text": [
      "Name: Prabhas \n",
      "Age: 25\n"
     ]
    }
   ],
   "source": [
    "class Person:\n",
    "    def __init__(self,n,a):\n",
    "        self.n=n\n",
    "        self.a=a\n",
    "p1=Person(\"Prabhas\",25)\n",
    "print(\"Name:\",p1.n,\"\\nAge:\",p1.a)"
   ]
  },
  {
   "cell_type": "code",
   "execution_count": null,
   "id": "157e1068",
   "metadata": {},
   "outputs": [],
   "source": [
    "class Person:\n",
    "    def __init__(self,n,a):\n",
    "        self.n=n\n",
    "        self.a=a\n",
    "    def myfunc(self):\n",
    "        print(\"Name:\",p1.n,\"\\nAge:\",p1.a)\n",
    "p1=Person(\"Prabhas\",25)\n",
    "p1.myfunc()"
   ]
  },
  {
   "cell_type": "code",
   "execution_count": 4,
   "id": "b70909c3",
   "metadata": {},
   "outputs": [
    {
     "name": "stdout",
     "output_type": "stream",
     "text": [
      "Name: Prabhas \n",
      "Age: 25\n",
      "Name: Prabhas \n",
      "Age: 19\n"
     ]
    }
   ],
   "source": [
    "class Person:\n",
    "    def __init__(self,n,a):\n",
    "        self.n=n\n",
    "        self.a=a\n",
    "    def myfunc(self):\n",
    "        print(\"Name:\",p1.n,\"\\nAge:\",p1.a)\n",
    "p1=Person(\"Prabhas\",25)\n",
    "p1.myfunc()\n",
    "p1.a=19\n",
    "p1.myfunc()"
   ]
  },
  {
   "cell_type": "code",
   "execution_count": 5,
   "id": "f5efc1b0",
   "metadata": {},
   "outputs": [
    {
     "ename": "AttributeError",
     "evalue": "'Person' object has no attribute 'a'",
     "output_type": "error",
     "traceback": [
      "\u001b[1;31m---------------------------------------------------------------------------\u001b[0m",
      "\u001b[1;31mAttributeError\u001b[0m                            Traceback (most recent call last)",
      "Cell \u001b[1;32mIn[5], line 9\u001b[0m\n\u001b[0;32m      7\u001b[0m p1\u001b[38;5;241m=\u001b[39mPerson(\u001b[38;5;124m\"\u001b[39m\u001b[38;5;124mPrabhas\u001b[39m\u001b[38;5;124m\"\u001b[39m,\u001b[38;5;241m25\u001b[39m)\n\u001b[0;32m      8\u001b[0m \u001b[38;5;28;01mdel\u001b[39;00m p1\u001b[38;5;241m.\u001b[39ma\n\u001b[1;32m----> 9\u001b[0m \u001b[38;5;28mprint\u001b[39m(\u001b[43mp1\u001b[49m\u001b[38;5;241;43m.\u001b[39;49m\u001b[43ma\u001b[49m)\n",
      "\u001b[1;31mAttributeError\u001b[0m: 'Person' object has no attribute 'a'"
     ]
    }
   ],
   "source": [
    "class Person:\n",
    "    def __init__(self,n,a):\n",
    "        self.n=n\n",
    "        self.a=a\n",
    "    def myfunc(self):\n",
    "        print(\"Name:\",p1.n,\"\\nAge:\",p1.a)\n",
    "p1=Person(\"Prabhas\",25)\n",
    "del p1.a\n",
    "print(p1.a)"
   ]
  },
  {
   "cell_type": "code",
   "execution_count": 6,
   "id": "a291e7af",
   "metadata": {},
   "outputs": [
    {
     "ename": "NameError",
     "evalue": "name 'p1' is not defined",
     "output_type": "error",
     "traceback": [
      "\u001b[1;31m---------------------------------------------------------------------------\u001b[0m",
      "\u001b[1;31mNameError\u001b[0m                                 Traceback (most recent call last)",
      "Cell \u001b[1;32mIn[6], line 9\u001b[0m\n\u001b[0;32m      7\u001b[0m p1\u001b[38;5;241m=\u001b[39mPerson(\u001b[38;5;124m\"\u001b[39m\u001b[38;5;124mPrabhas\u001b[39m\u001b[38;5;124m\"\u001b[39m,\u001b[38;5;241m25\u001b[39m)\n\u001b[0;32m      8\u001b[0m \u001b[38;5;28;01mdel\u001b[39;00m p1\n\u001b[1;32m----> 9\u001b[0m \u001b[38;5;28mprint\u001b[39m(\u001b[43mp1\u001b[49m)\n",
      "\u001b[1;31mNameError\u001b[0m: name 'p1' is not defined"
     ]
    }
   ],
   "source": [
    "class Person:\n",
    "    def __init__(self,n,a):\n",
    "        self.n=n\n",
    "        self.a=a\n",
    "    def myfunc(self):\n",
    "        print(\"Name:\",p1.n,\"\\nAge:\",p1.a)\n",
    "p1=Person(\"Prabhas\",25)\n",
    "del p1\n",
    "print(p1)"
   ]
  },
  {
   "cell_type": "code",
   "execution_count": 11,
   "id": "fc54fe7d",
   "metadata": {},
   "outputs": [
    {
     "name": "stdout",
     "output_type": "stream",
     "text": [
      "125\n",
      "75\n"
     ]
    }
   ],
   "source": [
    "class BankAccount(object):\n",
    "# define a class to simulate a bank account\n",
    "    def __init__(self): #initialize the bank account with zero balance\n",
    "        self.balance=0\n",
    "    def deposit(self, amount):\n",
    "        #deposit the given amount into the account\n",
    "        self.balance=self.balance+amount\n",
    "    def withdraw (self, amount):\n",
    "    #withdraw the given amount from the account\n",
    "        self.balance=self.balance-amount\n",
    "    def getBalance (self):\n",
    "    # return the balance in the account\n",
    "        return self.balance\n",
    "myAccount=BankAccount() # create an instance of BankAccount \n",
    "secondAccount=BankAccount() # create another\n",
    "myAccount.deposit(200)\n",
    "secondAccount.deposit (125)\n",
    "myAccount.withdraw(75) \n",
    "secondAccount.withdraw(50)\n",
    "print(myAccount.getBalance()) \n",
    "print(secondAccount.getBalance())"
   ]
  },
  {
   "cell_type": "code",
   "execution_count": 13,
   "id": "8c67e28b",
   "metadata": {},
   "outputs": [
    {
     "name": "stdout",
     "output_type": "stream",
     "text": [
      "500\n"
     ]
    }
   ],
   "source": [
    "class BankAccount (object): # create a class to simulate a bank account\n",
    "    def __init__(self, initBalance): # create new account with given initial balance\n",
    "        self.balance=initBalance\n",
    "    #The values for these additional arguments would be provided as part of the expression \n",
    "    #that created the new value:\n",
    "newAccount=BankAccount(500) # create bank account with $500\n",
    "print(newAccount.balance)"
   ]
  },
  {
   "cell_type": "code",
   "execution_count": 15,
   "id": "4e3e394d",
   "metadata": {},
   "outputs": [
    {
     "name": "stdout",
     "output_type": "stream",
     "text": [
      "Prabhas\n",
      "Prabhas\n"
     ]
    }
   ],
   "source": [
    "class Person:\n",
    "    def __init__(self,name):\n",
    "        self.name=name\n",
    "        print(self.name)\n",
    "p=Person('Prabhas')\n",
    "print(p.name)"
   ]
  },
  {
   "cell_type": "code",
   "execution_count": 20,
   "id": "1c993792",
   "metadata": {},
   "outputs": [
    {
     "name": "stdout",
     "output_type": "stream",
     "text": [
      "Number of students: 3\n"
     ]
    }
   ],
   "source": [
    "class Student:\n",
    "    c=0\n",
    "    def __init__(self):\n",
    "        Student.c+=1\n",
    "s1=Student()\n",
    "s2=Student()\n",
    "s3=Student()\n",
    "print(\"Number of students:\",Student.c)"
   ]
  },
  {
   "cell_type": "code",
   "execution_count": 23,
   "id": "d4f61aac",
   "metadata": {},
   "outputs": [
    {
     "name": "stdout",
     "output_type": "stream",
     "text": [
      "This is non parametrized constructor.\n",
      "Hello Prabhas!\n"
     ]
    }
   ],
   "source": [
    "class Student:\n",
    "    def __init__(self):\n",
    "        print(\"This is non parametrized constructor.\")\n",
    "    def show(self,n):\n",
    "        print(\"Hello \",n,\"!\",sep=\"\")\n",
    "s=Student()\n",
    "s.show(\"Prabhas\")"
   ]
  },
  {
   "cell_type": "code",
   "execution_count": 25,
   "id": "4b2b9f4d",
   "metadata": {},
   "outputs": [
    {
     "name": "stdout",
     "output_type": "stream",
     "text": [
      "This is parametrized constructor.\n",
      "Hello Prabhas!\n"
     ]
    }
   ],
   "source": [
    "class Student:\n",
    "    def __init__(self,n):\n",
    "        print(\"This is parametrized constructor.\")\n",
    "        self.n=n\n",
    "    def show(self):\n",
    "        print(\"Hello \",self.n,\"!\",sep=\"\")\n",
    "s=Student(\"Prabhas\")\n",
    "s.show()"
   ]
  },
  {
   "cell_type": "code",
   "execution_count": 27,
   "id": "7c5292e3",
   "metadata": {},
   "outputs": [
    {
     "name": "stdout",
     "output_type": "stream",
     "text": [
      "25 Prabhas\n"
     ]
    }
   ],
   "source": [
    "#Python Default Constructor\n",
    "class Student:\n",
    "    rn=25\n",
    "    n=\"Prabhas\"\n",
    "    def show(self):\n",
    "        print(self.rn,self.n)\n",
    "s=Student()\n",
    "s.show()"
   ]
  },
  {
   "cell_type": "code",
   "execution_count": 31,
   "id": "4833dace",
   "metadata": {},
   "outputs": [
    {
     "name": "stdout",
     "output_type": "stream",
     "text": [
      "Employee Details\n",
      " ID: 25 \n",
      "Name: Prabhas\n",
      "Destructor called:\n",
      "Removed Employee Details\n",
      " ID: 25 \n",
      "Name: Prabhas\n"
     ]
    }
   ],
   "source": [
    "#Destructors in Python\n",
    "class Employee:\n",
    "    def __init__(self):\n",
    "        self.id=25\n",
    "        self.n=\"Prabhas\"\n",
    "        print(\"Employee Details\\n\",\"ID:\",self.id,\"\\nName:\",self.n)\n",
    "    def __del__(self):\n",
    "        print(\"Destructor called:\")\n",
    "        print(\"Removed Employee Details\\n\",\"ID:\",self.id,\"\\nName:\",self.n)\n",
    "s=Employee()\n",
    "del s"
   ]
  },
  {
   "cell_type": "code",
   "execution_count": 32,
   "id": "b9d51b31",
   "metadata": {},
   "outputs": [
    {
     "name": "stdout",
     "output_type": "stream",
     "text": [
      "123\n",
      "456\n"
     ]
    }
   ],
   "source": [
    "class A:\n",
    "    i=123\n",
    "    def __init__(self):\n",
    "        self.i=456\n",
    "print(A.i)\n",
    "print(A().i)"
   ]
  },
  {
   "cell_type": "code",
   "execution_count": 35,
   "id": "fa14169b",
   "metadata": {},
   "outputs": [
    {
     "name": "stdout",
     "output_type": "stream",
     "text": [
      "Emma 10 Prabhas School\n",
      "Jessa 20 Prabhas School\n"
     ]
    }
   ],
   "source": [
    "#Create Class Variables\n",
    "class Student:\n",
    "    # Class variable \n",
    "    school_name = 'Prabhas School'\n",
    "    def __init__(self,name, roll_no): \n",
    "        self.name=name\n",
    "        self.roll_no = roll_no\n",
    "# create first object \n",
    "s1 = Student('Emma',10) \n",
    "print(s1.name, s1. roll_no, Student.school_name) \n",
    "#access class variable\n",
    "# create second object \n",
    "s2=Student('Jessa',20) \n",
    "#access class variable \n",
    "print(s2.name, s2.roll_no, Student.school_name)"
   ]
  },
  {
   "cell_type": "code",
   "execution_count": 37,
   "id": "74fd0248",
   "metadata": {},
   "outputs": [
    {
     "name": "stdout",
     "output_type": "stream",
     "text": [
      "ABC School\n"
     ]
    }
   ],
   "source": [
    "#Accessing class variables\n",
    "#Access Class Variable in the constructor \n",
    "class Student:\n",
    "    # Class variable \n",
    "    school_name = 'ABC School'\n",
    "    # constructor\n",
    "    def __init__(self, name):\n",
    "        self.name=name\n",
    "        # access class variable inside constructor using self \n",
    "        print(self.school_name) #access using class name print(Student.school_name)\n",
    "# create Object \n",
    "s1=Student('Emma')"
   ]
  },
  {
   "cell_type": "code",
   "execution_count": 40,
   "id": "557863ba",
   "metadata": {},
   "outputs": [
    {
     "name": "stdout",
     "output_type": "stream",
     "text": [
      "Inside instance method\n",
      "Emma 10 Prabhas School\n",
      "Prabhas School\n",
      "Outside class\n",
      "Prabhas School\n"
     ]
    }
   ],
   "source": [
    "#Access Class Variable in Instance method and outside class\n",
    "class Student:\n",
    "    # Class variable \n",
    "    school_name = 'Prabhas School'\n",
    "    # constructor\n",
    "    def __init__(self, name, roll_no): \n",
    "        self.roll_no=roll_no\n",
    "        self.name=name\n",
    "    def show(self):\n",
    "        # Instance method \n",
    "        print('Inside instance method') \n",
    "        # access using self \n",
    "        print(self.name, self.roll_no, self.school_name) \n",
    "        # access using class name \n",
    "        print (Student.school_name)\n",
    "# create Object\n",
    "s1=Student('Emma', 10) \n",
    "s1.show()\n",
    "print('Outside class')\n",
    "#access class variable outside class\n",
    "#access using object reference\n",
    "print(s1.school_name)\n",
    "# access using class name print (Student.school_name)"
   ]
  },
  {
   "cell_type": "code",
   "execution_count": 45,
   "id": "ebac1580",
   "metadata": {},
   "outputs": [
    {
     "name": "stdout",
     "output_type": "stream",
     "text": [
      "Before\n",
      "Emma 10 Prabhas High School\n",
      "After\n",
      "Emma 10 Prabhas International School\n"
     ]
    }
   ],
   "source": [
    "#Modifying Class variables\n",
    "class Student:\n",
    "    # Class variable \n",
    "    school_name = 'Prabhas High School'\n",
    "    #constructor\n",
    "    def __init__(self, name, roll_no): \n",
    "        self.name=name \n",
    "        self.roll_no= roll_no\n",
    "    #Instance method \n",
    "    def show(self):\n",
    "        print(self.name, self.roll_no, Student.school_name)\n",
    "# create Object\n",
    "s1 = Student('Emma', 10) \n",
    "print('Before') \n",
    "s1.show()\n",
    "#Modify class variable\n",
    "Student.school_name = 'Prabhas International School'\n",
    "print('After')\n",
    "s1.show()"
   ]
  },
  {
   "cell_type": "code",
   "execution_count": 50,
   "id": "9be7e124",
   "metadata": {},
   "outputs": [
    {
     "name": "stdout",
     "output_type": "stream",
     "text": [
      "Car Details:-\n",
      "Name: BMW X1 sDrive18d MSport \n",
      "Price:₹ 5076687 /-\n",
      "Manufacturer: BMW\n"
     ]
    }
   ],
   "source": [
    "#An example to create a class variable and instance variable. \n",
    "class Car:\n",
    "    # Class variable \n",
    "    manufacturer = 'BMW'\n",
    "    def __init__(self, model, price): # instance variable\n",
    "        self.model=model\n",
    "        self.price=price\n",
    "# create Object\n",
    "car=Car('BMW X1 sDrive18d MSport',5076687)\n",
    "print('Car Details:-\\nName:',car.model,'\\nPrice:₹',car.price,'/-\\nManufacturer:',Car.manufacturer)"
   ]
  },
  {
   "cell_type": "code",
   "execution_count": 53,
   "id": "2b4f962c",
   "metadata": {},
   "outputs": [
    {
     "name": "stdout",
     "output_type": "stream",
     "text": [
      "Before\n",
      "Student name: Prabhas \n",
      "Course Name: Python\n",
      "Now\n",
      "Student name: Prabhas \n",
      "Course Name: Machine Learning\n"
     ]
    }
   ],
   "source": [
    "# Class variable in inheritance\n",
    "class Course:\n",
    "    # class variable \n",
    "    course = \"Python\"\n",
    "class Student (Course):\n",
    "    def __init__(self, name): \n",
    "        self.name=name\n",
    "    def show_student(self):\n",
    "        # Accessing class variable of parent class \n",
    "        print('Before') \n",
    "        print(\"Student name:\", self.name, \"\\nCourse Name:\", Student.course) \n",
    "        #changing class variable value of base class\n",
    "        print('Now') \n",
    "        Student.course = \"Machine Learning\"\n",
    "        print(\"Student name:\", self.name, \"\\nCourse Name:\", Student.course)\n",
    "# creating object of Student class\n",
    "stud=Student(\"Prabhas\")\n",
    "stud.show_student()"
   ]
  },
  {
   "cell_type": "code",
   "execution_count": null,
   "id": "34563b2f",
   "metadata": {},
   "outputs": [],
   "source": []
  }
 ],
 "metadata": {
  "kernelspec": {
   "display_name": "Python 3 (ipykernel)",
   "language": "python",
   "name": "python3"
  },
  "language_info": {
   "codemirror_mode": {
    "name": "ipython",
    "version": 3
   },
   "file_extension": ".py",
   "mimetype": "text/x-python",
   "name": "python",
   "nbconvert_exporter": "python",
   "pygments_lexer": "ipython3",
   "version": "3.11.1"
  }
 },
 "nbformat": 4,
 "nbformat_minor": 5
}
