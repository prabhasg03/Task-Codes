{
 "cells": [
  {
   "cell_type": "code",
   "execution_count": 10,
   "id": "7cc11737",
   "metadata": {},
   "outputs": [
    {
     "name": "stdout",
     "output_type": "stream",
     "text": [
      "2023-04-12 14:28:33.826085\n",
      "Year: 2023\n",
      "Day of Week: Wednesday\n",
      "Day of Week(short): Wed\n",
      "Day number of Week: 3\n",
      "Day of Month: 12\n",
      "Name of Month(short): Apr\n",
      "Name of Month: April\n",
      "Month number: 04\n",
      "Year(short 2000+): 23\n",
      "Year: 2023\n",
      "Hour(24): 14\n",
      "Hour: 02\n",
      "AM/PM: PM\n",
      "Minute: 28\n",
      "Seconds: 33\n",
      "Microsecond: 826085\n",
      "UTC \n",
      "Timezone \n",
      "Day of Year: 102\n",
      "Week no of year: 15\n",
      "Local date and time: Wed Apr 12 14:28:33 2023\n",
      "Century: 20\n",
      "Local date: 04/12/23\n",
      "ISO 8601 Year: 2023\n",
      "ISO 8601 weekday: 3\n",
      "ISO 8601 weeknumber: 15\n",
      "2020-05-17 00:00:00\n"
     ]
    }
   ],
   "source": [
    "import datetime\n",
    "x=datetime.datetime.now()\n",
    "print(x)\n",
    "print(\"Year:\",x.year)\n",
    "print(\"Day of Week:\",x.strftime(\"%A\"))\n",
    "print(\"Day of Week(short):\",x.strftime(\"%a\"))\n",
    "print(\"Day number of Week:\",x.strftime(\"%w\"))\n",
    "print(\"Day of Month:\",x.strftime(\"%d\"))\n",
    "print(\"Name of Month(short):\",x.strftime(\"%b\"))\n",
    "print(\"Name of Month:\",x.strftime(\"%B\"))\n",
    "print(\"Month number:\",x.strftime(\"%m\"))\n",
    "print(\"Year(short 2000+):\",x.strftime(\"%y\"))\n",
    "print(\"Year:\",x.strftime(\"%Y\"))\n",
    "print(\"Hour(24):\",x.strftime(\"%H\"))\n",
    "print(\"Hour:\",x.strftime(\"%I\"))\n",
    "print(\"AM/PM:\",x.strftime(\"%p\"))\n",
    "print(\"Minute:\",x.strftime(\"%M\"))\n",
    "print(\"Seconds:\",x.strftime(\"%S\"))\n",
    "print(\"Microsecond:\",x.strftime(\"%f\"))\n",
    "print(\"UTC\",x.strftime(\"%z\"))\n",
    "print(\"Timezone\",x.strftime(\"%Z\"))\n",
    "print(\"Day of Year:\",x.strftime(\"%j\"))\n",
    "print(\"Week no of year:\",x.strftime(\"%U\"))\n",
    "print(\"Local date and time:\",x.strftime(\"%c\"))\n",
    "print(\"Century:\",x.strftime(\"%C\"))\n",
    "print(\"Local date:\",x.strftime(\"%x\"))\n",
    "print(\"ISO 8601 Year:\",x.strftime(\"%G\"))\n",
    "print(\"ISO 8601 weekday:\",x.strftime(\"%u\"))\n",
    "print(\"ISO 8601 weeknumber:\",x.strftime(\"%V\"))\n",
    "y=datetime.datetime(2020, 5, 17)\n",
    "print(y)"
   ]
  },
  {
   "cell_type": "code",
   "execution_count": null,
   "id": "18e1b296",
   "metadata": {},
   "outputs": [],
   "source": []
  },
  {
   "cell_type": "code",
   "execution_count": null,
   "id": "9244c17b",
   "metadata": {},
   "outputs": [],
   "source": []
  }
 ],
 "metadata": {
  "kernelspec": {
   "display_name": "Python 3 (ipykernel)",
   "language": "python",
   "name": "python3"
  },
  "language_info": {
   "codemirror_mode": {
    "name": "ipython",
    "version": 3
   },
   "file_extension": ".py",
   "mimetype": "text/x-python",
   "name": "python",
   "nbconvert_exporter": "python",
   "pygments_lexer": "ipython3",
   "version": "3.9.13"
  }
 },
 "nbformat": 4,
 "nbformat_minor": 5
}
