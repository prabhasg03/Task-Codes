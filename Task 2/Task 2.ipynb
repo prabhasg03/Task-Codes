{
 "cells": [
  {
   "cell_type": "code",
   "execution_count": 11,
   "id": "c44f762b",
   "metadata": {},
   "outputs": [
    {
     "name": "stdout",
     "output_type": "stream",
     "text": [
      "Requirement already satisfied: numpy in c:\\users\\griet\\anaconda3\\lib\\site-packages (1.22.4)\n",
      "Requirement already satisfied: ucimlrepo in c:\\users\\griet\\anaconda3\\lib\\site-packages (0.0.3)\n",
      "Requirement already satisfied: scipy in c:\\users\\griet\\anaconda3\\lib\\site-packages (1.7.3)\n",
      "Requirement already satisfied: numpy<1.23.0,>=1.16.5 in c:\\users\\griet\\anaconda3\\lib\\site-packages (from scipy) (1.22.4)\n",
      "Requirement already satisfied: pandas in c:\\users\\griet\\anaconda3\\lib\\site-packages (1.4.2)\n",
      "Requirement already satisfied: pytz>=2020.1 in c:\\users\\griet\\anaconda3\\lib\\site-packages (from pandas) (2021.3)\n",
      "Requirement already satisfied: python-dateutil>=2.8.1 in c:\\users\\griet\\anaconda3\\lib\\site-packages (from pandas) (2.8.2)\n",
      "Requirement already satisfied: numpy>=1.18.5 in c:\\users\\griet\\anaconda3\\lib\\site-packages (from pandas) (1.22.4)\n",
      "Requirement already satisfied: six>=1.5 in c:\\users\\griet\\anaconda3\\lib\\site-packages (from python-dateutil>=2.8.1->pandas) (1.16.0)\n"
     ]
    }
   ],
   "source": [
    "import sys\n",
    "!{sys.executable} -m pip install numpy\n",
    "!{sys.executable} -m pip install ucimlrepo\n",
    "!{sys.executable} -m pip install scipy\n",
    "!{sys.executable} -m pip install pandas"
   ]
  },
  {
   "cell_type": "markdown",
   "id": "1cd08eb0",
   "metadata": {},
   "source": [
    "a. Rescaling Data\n",
    "For data with attributes of varying scales, we can rescale attributes to possess the same scale. We rescale \n",
    "attributes into the range 0 to 1 and call it normalization. We use the MinMaxScaler class from scikit\u0002learn. Let’s take an example."
   ]
  },
  {
   "cell_type": "code",
   "execution_count": 22,
   "id": "a01cf98e",
   "metadata": {},
   "outputs": [
    {
     "name": "stdout",
     "output_type": "stream",
     "text": [
      "OUTPUT\n"
     ]
    },
    {
     "data": {
      "text/plain": [
       "array([[0.248, 0.397, 0.   , 0.068, 0.107, 0.141, 0.099, 0.568],\n",
       "       [0.283, 0.521, 0.   , 0.116, 0.144, 0.338, 0.216, 0.494],\n",
       "       [0.283, 0.438, 0.04 , 0.096, 0.134, 0.197, 0.17 , 0.509],\n",
       "       [0.584, 0.11 , 0.56 , 0.068, 0.105, 0.225, 0.191, 0.582],\n",
       "       [0.248, 0.397, 0.   , 0.068, 0.107, 0.141, 0.099, 0.568]])"
      ]
     },
     "execution_count": 22,
     "metadata": {},
     "output_type": "execute_result"
    }
   ],
   "source": [
    "import pandas, scipy, numpy\n",
    "from sklearn.preprocessing import MinMaxScaler\n",
    "df=pandas.read_csv( 'winequality-red.csv',sep=';')\n",
    "array=df.values\n",
    "#Separating data into input and OUTPUT components\n",
    "x=array[:,0:8]\n",
    "y=array[:,8]\n",
    "scaler=MinMaxScaler(feature_range=(0,1))\n",
    "rescaledX=scaler.fit_transform(x)\n",
    "numpy.set_printoptions(precision=3) #Setting precision for the OUTPUT\n",
    "print(\"OUTPUT\")\n",
    "rescaledX[0:5,:]"
   ]
  },
  {
   "cell_type": "code",
   "execution_count": 23,
   "id": "42976403",
   "metadata": {},
   "outputs": [
    {
     "name": "stdout",
     "output_type": "stream",
     "text": [
      "OUTPUT\n"
     ]
    },
    {
     "data": {
      "text/plain": [
       "array([[-0.528,  0.962, -1.391, -0.453, -0.244, -0.466, -0.379,  0.558],\n",
       "       [-0.299,  1.967, -1.391,  0.043,  0.224,  0.873,  0.624,  0.028],\n",
       "       [-0.299,  1.297, -1.186, -0.169,  0.096, -0.084,  0.229,  0.134],\n",
       "       [ 1.655, -1.384,  1.484, -0.453, -0.265,  0.108,  0.412,  0.664],\n",
       "       [-0.528,  0.962, -1.391, -0.453, -0.244, -0.466, -0.379,  0.558]])"
      ]
     },
     "execution_count": 23,
     "metadata": {},
     "output_type": "execute_result"
    }
   ],
   "source": [
    "from sklearn.preprocessing import StandardScaler\n",
    "scaler=StandardScaler().fit(x)\n",
    "rescaledX=scaler.transform(x)\n",
    "print(\"OUTPUT\")\n",
    "rescaledX[0:5,:]"
   ]
  },
  {
   "cell_type": "code",
   "execution_count": 24,
   "id": "e4c4cc47",
   "metadata": {},
   "outputs": [
    {
     "name": "stdout",
     "output_type": "stream",
     "text": [
      "OUTPUT\n"
     ]
    },
    {
     "data": {
      "text/plain": [
       "array([[2.024e-01, 1.914e-02, 0.000e+00, 5.196e-02, 2.079e-03, 3.008e-01,\n",
       "        9.299e-01, 2.729e-02],\n",
       "       [1.083e-01, 1.222e-02, 0.000e+00, 3.611e-02, 1.361e-03, 3.472e-01,\n",
       "        9.306e-01, 1.385e-02],\n",
       "       [1.377e-01, 1.342e-02, 7.061e-04, 4.060e-02, 1.624e-03, 2.648e-01,\n",
       "        9.533e-01, 1.760e-02],\n",
       "       [1.767e-01, 4.416e-03, 8.833e-03, 2.997e-02, 1.183e-03, 2.681e-01,\n",
       "        9.464e-01, 1.574e-02],\n",
       "       [2.024e-01, 1.914e-02, 0.000e+00, 5.196e-02, 2.079e-03, 3.008e-01,\n",
       "        9.299e-01, 2.729e-02]])"
      ]
     },
     "execution_count": 24,
     "metadata": {},
     "output_type": "execute_result"
    }
   ],
   "source": [
    "from sklearn.preprocessing import Normalizer\n",
    "scaler=Normalizer().fit(x)\n",
    "normalizedX=scaler.transform(x)\n",
    "print(\"OUTPUT\")\n",
    "normalizedX[0:5,:]"
   ]
  },
  {
   "cell_type": "code",
   "execution_count": 25,
   "id": "4175a326",
   "metadata": {},
   "outputs": [
    {
     "name": "stdout",
     "output_type": "stream",
     "text": [
      "OUPUT\n"
     ]
    },
    {
     "data": {
      "text/plain": [
       "array([[1., 1., 0., 1., 1., 1., 1., 1.],\n",
       "       [1., 1., 0., 1., 1., 1., 1., 1.],\n",
       "       [1., 1., 1., 1., 1., 1., 1., 1.],\n",
       "       [1., 1., 1., 1., 1., 1., 1., 1.],\n",
       "       [1., 1., 0., 1., 1., 1., 1., 1.]])"
      ]
     },
     "execution_count": 25,
     "metadata": {},
     "output_type": "execute_result"
    }
   ],
   "source": [
    "from sklearn.preprocessing import Binarizer\n",
    "binarizer=Binarizer(threshold=0.0).fit(x)\n",
    "binaryX=binarizer.transform(x)\n",
    "print(\"OUPUT\")\n",
    "binaryX[0:5,:]"
   ]
  },
  {
   "cell_type": "code",
   "execution_count": 26,
   "id": "091dd0aa",
   "metadata": {},
   "outputs": [
    {
     "name": "stdout",
     "output_type": "stream",
     "text": [
      "OUTPUT\n"
     ]
    },
    {
     "data": {
      "text/plain": [
       "array([1., 1., 1., 1., 1., 1., 1., 1., 1., 1., 1., 1.])"
      ]
     },
     "execution_count": 26,
     "metadata": {},
     "output_type": "execute_result"
    }
   ],
   "source": [
    "from sklearn.preprocessing import scale\n",
    "data_standardized=scale(df)\n",
    "data_standardized.mean(axis=0)\n",
    "print(\"OUTPUT\")\n",
    "data_standardized.std(axis=0)\n"
   ]
  },
  {
   "cell_type": "code",
   "execution_count": 27,
   "id": "28b4b2aa",
   "metadata": {},
   "outputs": [
    {
     "name": "stdout",
     "output_type": "stream",
     "text": [
      "['cold' 'cold' 'warm' 'cold' 'hot' 'hot' 'warm' 'cold' 'warm' 'hot']\n",
      "[0 0 2 0 1 1 2 0 2 1]\n"
     ]
    }
   ],
   "source": [
    "from numpy import array,argmax\n",
    "from sklearn.preprocessing import LabelEncoder,OneHotEncoder\n",
    "#define example\n",
    "data = ['cold', 'cold', 'warm', 'cold', 'hot', 'hot', 'warm', 'cold', 'warm', 'hot']\n",
    "values = array(data)\n",
    "print(values)\n",
    "# integer encode\n",
    "label_encoder = LabelEncoder()\n",
    "integer_encoded = label_encoder.fit_transform(values)\n",
    "print(integer_encoded)"
   ]
  },
  {
   "cell_type": "code",
   "execution_count": 28,
   "id": "31fe30d6",
   "metadata": {},
   "outputs": [
    {
     "name": "stdout",
     "output_type": "stream",
     "text": [
      "[[1. 0. 0.]\n",
      " [1. 0. 0.]\n",
      " [0. 0. 1.]\n",
      " [1. 0. 0.]\n",
      " [0. 1. 0.]\n",
      " [0. 1. 0.]\n",
      " [0. 0. 1.]\n",
      " [1. 0. 0.]\n",
      " [0. 0. 1.]\n",
      " [0. 1. 0.]]\n"
     ]
    }
   ],
   "source": [
    "# binary encode\n",
    "onehot_encoder = OneHotEncoder(sparse=False)\n",
    "integer_encoded = integer_encoded.reshape(len(integer_encoded), 1)\n",
    "onehot_encoded = onehot_encoder.fit_transform(integer_encoded)\n",
    "print(onehot_encoded)"
   ]
  },
  {
   "cell_type": "code",
   "execution_count": 29,
   "id": "484e102d",
   "metadata": {},
   "outputs": [
    {
     "name": "stdout",
     "output_type": "stream",
     "text": [
      "OUTPUT\n",
      "['cold']\n"
     ]
    }
   ],
   "source": [
    "# invert first example\n",
    "inverted = label_encoder.inverse_transform([argmax(onehot_encoded[0, :])])\n",
    "print(\"OUTPUT\")\n",
    "print(inverted)\n"
   ]
  },
  {
   "cell_type": "code",
   "execution_count": 34,
   "id": "8899d9b6",
   "metadata": {},
   "outputs": [
    {
     "name": "stdout",
     "output_type": "stream",
     "text": [
      "Eveready --> 0\n",
      "Havells --> 1\n",
      "Lloyd --> 2\n",
      "Philips --> 3\n",
      "Syska --> 4\n"
     ]
    },
    {
     "data": {
      "text/plain": [
       "array(['Lloyd', 'Syska', 'Philips'], dtype='<U8')"
      ]
     },
     "execution_count": 34,
     "metadata": {},
     "output_type": "execute_result"
    }
   ],
   "source": [
    "from sklearn.preprocessing import LabelEncoder\n",
    "label_encoder=LabelEncoder()\n",
    "input_classes=['Havells','Philips','Syska','Eveready','Lloyd']\n",
    "label_encoder.fit(input_classes)\n",
    "for i,item in enumerate(label_encoder.classes_):\n",
    "    print(item,'-->',i)\n",
    "labels=['Lloyd','Syska','Philips']\n",
    "label_encoder.transform(labels)\n",
    "array([2, 4, 3], dtype='int32')\n",
    "label_encoder.inverse_transform(label_encoder.transform(labels))"
   ]
  },
  {
   "cell_type": "code",
   "execution_count": null,
   "id": "afb91c66",
   "metadata": {},
   "outputs": [],
   "source": []
  }
 ],
 "metadata": {
  "kernelspec": {
   "display_name": "Python 3 (ipykernel)",
   "language": "python",
   "name": "python3"
  },
  "language_info": {
   "codemirror_mode": {
    "name": "ipython",
    "version": 3
   },
   "file_extension": ".py",
   "mimetype": "text/x-python",
   "name": "python",
   "nbconvert_exporter": "python",
   "pygments_lexer": "ipython3",
   "version": "3.9.12"
  }
 },
 "nbformat": 4,
 "nbformat_minor": 5
}
